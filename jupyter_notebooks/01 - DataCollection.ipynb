{
  "cells": [
    {
      "attachments": {},
      "cell_type": "markdown",
      "metadata": {
        "id": "0aStgWSO0E0E"
      },
      "source": [
        "# **Data Collection Notebook**"
      ]
    },
    {
      "attachments": {},
      "cell_type": "markdown",
      "metadata": {
        "id": "1eLEkw5O0ECa"
      },
      "source": [
        "## Objectives\n",
        "\n",
        "* Fetch cherry leaves image dataset from Kaggle and prepare the data for anaylsis and modelling.\n",
        "\n",
        "## Inputs\n",
        "\n",
        "* Kaggle JSON file - authentication token.\n",
        "\n",
        "## Outputs\n",
        "\n",
        "* Generate dataset: inputs/datasets/cherry_leaves_dataset\n",
        "\n",
        "## Additional Comments\n",
        "\n",
        "* Clean the data and split the dataset into train, validation and test sets.\n",
        "\n"
      ]
    },
    {
      "cell_type": "markdown",
      "metadata": {
        "id": "9uWZXH9LwoQg"
      },
      "source": [
        "---"
      ]
    },
    {
      "cell_type": "markdown",
      "metadata": {
        "id": "cqP-UeN-z3i2"
      },
      "source": [
        "# Change working directory"
      ]
    },
    {
      "cell_type": "code",
      "execution_count": null,
      "metadata": {
        "id": "wZfF_j-Bz3i4",
        "outputId": "66943449-1436-4c3d-85c7-b85f9f78349b"
      },
      "outputs": [],
      "source": [
        "import os\n",
        "current_dir = os.getcwd()\n",
        "current_dir"
      ]
    },
    {
      "cell_type": "code",
      "execution_count": null,
      "metadata": {
        "id": "TwHsQRWjz3i9",
        "outputId": "86849db3-cd2f-4cc5-ebb8-2d0caafa1a2c"
      },
      "outputs": [],
      "source": [
        "os.chdir(\"/workspace/cherry-leaves-mildew-detection\")\n",
        "print(\"You set a new current directory.\")"
      ]
    },
    {
      "cell_type": "code",
      "execution_count": null,
      "metadata": {
        "id": "vz3S-_kjz3jA",
        "outputId": "00b79ae4-75d0-4a96-d193-ac9ef9847ea2"
      },
      "outputs": [],
      "source": [
        "current_dir = os.getcwd()\n",
        "current_dir"
      ]
    },
    {
      "attachments": {},
      "cell_type": "markdown",
      "metadata": {},
      "source": [
        "---"
      ]
    },
    {
      "attachments": {},
      "cell_type": "markdown",
      "metadata": {
        "id": "-mavJ8DibrcQ"
      },
      "source": [
        "# Install Kaggle"
      ]
    },
    {
      "cell_type": "code",
      "execution_count": null,
      "metadata": {},
      "outputs": [],
      "source": [
        "# Install kaggle\n",
        "%pip install kaggle"
      ]
    },
    {
      "cell_type": "code",
      "execution_count": null,
      "metadata": {},
      "outputs": [],
      "source": [
        "os.environ['KAGGLE_CONFIG_DIR'] = os.getcwd()\n",
        "! chmod 600 kaggle.json"
      ]
    },
    {
      "cell_type": "code",
      "execution_count": null,
      "metadata": {},
      "outputs": [],
      "source": [
        "KaggleDatasetPath = \"codeinstitute/cherry-leaves\"\n",
        "DestinationFolder = \"inputs/cherry_leaves_dataset\"\n",
        "! kaggle datasets download -d {KaggleDatasetPath} -p {DestinationFolder}"
      ]
    },
    {
      "cell_type": "code",
      "execution_count": null,
      "metadata": {},
      "outputs": [],
      "source": [
        "import zipfile\n",
        "with zipfile.ZipFile(DestinationFolder + \"/\" + \"cherry-leaves.zip\", \"r\") as zip:\n",
        "    zip.extractall(DestinationFolder)\n",
        "os.remove(DestinationFolder + \"/\" + \"cherry-leaves.zip\")"
      ]
    },
    {
      "cell_type": "markdown",
      "metadata": {
        "id": "ZY3l0-AxO93d"
      },
      "source": [
        "---"
      ]
    },
    {
      "attachments": {},
      "cell_type": "markdown",
      "metadata": {
        "id": "uFQo3ycuO-v6"
      },
      "source": [
        "# Data Cleaning"
      ]
    },
    {
      "attachments": {},
      "cell_type": "markdown",
      "metadata": {},
      "source": [
        "### Removing non-image files"
      ]
    },
    {
      "cell_type": "code",
      "execution_count": null,
      "metadata": {},
      "outputs": [],
      "source": [
        "\n",
        "def remove_non_image(data_dir):\n",
        "    \"\"\"\n",
        "    Function searches directory to ensure all \n",
        "    the files end with the listed extension. \n",
        "    Files that do not are appended to the non_image\n",
        "    list. \n",
        "    \"\"\"\n",
        "    image_extension = (\".png\", \".jpg\", \".jpeg\", \".tiff\")\n",
        "    folders = os.listdir(data_dir)\n",
        "    for folder in folders:\n",
        "        files = os.listdir(data_dir + \"/\" + folder)\n",
        "        image = []\n",
        "        non_image = []\n",
        "        for file in files:\n",
        "            if not file.lower().endswith(image_extension):\n",
        "                non_image.append(file)\n",
        "                os.remove(data_dir + \"/\" + folder + \"/\" + file)\n",
        "            else:\n",
        "                image.append(file)\n",
        "        print(f\"Label: {folder} has {len(image)} image files and {len(non_image)} non-image files.\")"
      ]
    },
    {
      "cell_type": "code",
      "execution_count": null,
      "metadata": {},
      "outputs": [],
      "source": [
        "remove_non_image(data_dir=\"inputs/cherry_leaves_dataset/cherry_leaves\")"
      ]
    },
    {
      "attachments": {},
      "cell_type": "markdown",
      "metadata": {},
      "source": [
        "---"
      ]
    },
    {
      "attachments": {},
      "cell_type": "markdown",
      "metadata": {},
      "source": [
        "# Data Preparation"
      ]
    },
    {
      "attachments": {},
      "cell_type": "markdown",
      "metadata": {},
      "source": [
        "### Split Dataset into Train, Validation and Test Sets"
      ]
    },
    {
      "cell_type": "code",
      "execution_count": null,
      "metadata": {},
      "outputs": [],
      "source": [
        "import os\n",
        "import shutil\n",
        "import random\n",
        "import joblib\n",
        "\n",
        "def split_image_dataset(data_dir, train_ratio, val_ratio, test_ratio):\n",
        "    \"\"\"\n",
        "    Function to split the dataset into train, validation and\n",
        "    test sets, creating new folders. The ratios must total 1.\n",
        "    \"\"\"\n",
        "    if train_ratio + val_ratio + test_ratio != 1:\n",
        "        print(\"The ratios need to sum up to 1.\")\n",
        "        return\n",
        "    \n",
        "    labels = os.listdir(data_dir)\n",
        "    if \"test\" in labels:\n",
        "        print(\"A test folder is already present.\")\n",
        "        return\n",
        "    else:\n",
        "        for folder in [\"train\", \"validation\", \"test\"]:\n",
        "            # To create a subfolder for the labels within the class\n",
        "            for label in labels:\n",
        "                os.makedirs(name=data_dir + \"/\" + folder + \"/\" + label)\n",
        "        # To distribute the data into the sets at random\n",
        "        for label in labels:\n",
        "            files = os.listdir(data_dir + \"/\" + label)\n",
        "            random.shuffle(files)\n",
        "\n",
        "            # So that the files are moved according to the ratio\n",
        "            no_train_files = int(len(files)) * train_ratio\n",
        "            no_val_files = int(len(files)) * val_ratio\n",
        "            sum_train_val_files = no_train_files + no_val_files\n",
        "\n",
        "            count = 0\n",
        "\n",
        "            for file in files:\n",
        "                if count <= no_train_files:\n",
        "                    shutil.move(data_dir + \"/\" + label + \"/\" + file,\n",
        "                                data_dir + \"/train/\" + label + \"/\" + file)\n",
        "                elif count <= sum_train_val_files:\n",
        "                    shutil.move(data_dir + \"/\" + label + \"/\" + file,\n",
        "                                data_dir + \"/validation/\" + label + \"/\" + file)\n",
        "                else:\n",
        "                    shutil.move(data_dir + \"/\" + label + \"/\" + file,\n",
        "                                data_dir + \"/test/\" + label + \"/\" + file)\n",
        "                count += 1\n",
        "\n",
        "            # Remove old label directory \n",
        "            os.rmdir(data_dir + \"/\" + label)"
      ]
    },
    {
      "cell_type": "code",
      "execution_count": null,
      "metadata": {},
      "outputs": [],
      "source": [
        "split_image_dataset(data_dir=\"inputs/cherry_leaves_dataset/cherry_leaves\",\n",
        "                    train_ratio=0.7,\n",
        "                    val_ratio=0.15,\n",
        "                    test_ratio=0.15)"
      ]
    },
    {
      "cell_type": "markdown",
      "metadata": {},
      "source": [
        "---"
      ]
    },
    {
      "attachments": {},
      "cell_type": "markdown",
      "metadata": {
        "id": "ltNetd085qHf"
      },
      "source": [
        "# Conclusion"
      ]
    },
    {
      "attachments": {},
      "cell_type": "markdown",
      "metadata": {},
      "source": [
        "Data has been cleaned to remove non-image files (if there were any). The data was split into three datasets, train, validation and test in a (0.7, 0.15, 0.15) ratio."
      ]
    },
    {
      "attachments": {},
      "cell_type": "markdown",
      "metadata": {},
      "source": [
        "---"
      ]
    },
    {
      "attachments": {},
      "cell_type": "markdown",
      "metadata": {},
      "source": [
        "# Next Steps"
      ]
    },
    {
      "attachments": {},
      "cell_type": "markdown",
      "metadata": {},
      "source": [
        "The data will be analysed for differences between the two classes (healthy and powdery mildew) with the standard deviation and mean of the images calculated to determine image variability and the average image. An image montage will be created to display the images per label. "
      ]
    },
    {
      "attachments": {},
      "cell_type": "markdown",
      "metadata": {},
      "source": [
        "---"
      ]
    }
  ],
  "metadata": {
    "accelerator": "GPU",
    "colab": {
      "name": "Data Practitioner Jupyter Notebook.ipynb",
      "provenance": [],
      "toc_visible": true
    },
    "interpreter": {
      "hash": "8b8334dab9339717f727a1deaf837b322d7a41c20d15cc86be99a8e69ceec8ce"
    },
    "kernelspec": {
      "display_name": "Python 3.8.12 64-bit ('3.8.12': pyenv)",
      "name": "python3"
    },
    "language_info": {
      "codemirror_mode": {
        "name": "ipython",
        "version": 3
      },
      "file_extension": ".py",
      "mimetype": "text/x-python",
      "name": "python",
      "nbconvert_exporter": "python",
      "pygments_lexer": "ipython3",
      "version": "3.8.12"
    },
    "orig_nbformat": 2
  },
  "nbformat": 4,
  "nbformat_minor": 2
}
