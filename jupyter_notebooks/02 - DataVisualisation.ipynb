{
  "cells": [
    {
      "attachments": {},
      "cell_type": "markdown",
      "metadata": {
        "id": "0aStgWSO0E0E"
      },
      "source": [
        "# **Data Visualisation Notebook**"
      ]
    },
    {
      "attachments": {},
      "cell_type": "markdown",
      "metadata": {
        "id": "1eLEkw5O0ECa"
      },
      "source": [
        "## Objectives\n",
        "\n",
        "* Fulfill Business Requirement 1 - differentiate between healthy cherry leaves and those with powdery mildew. \n",
        "\n",
        "## Inputs\n",
        "\n",
        "* inputs/cherry_leaves_dataset/cherry_leaves/train\n",
        "* inputs/cherry_leaves_dataset/cherry_leaves/validation\n",
        "* inputs/cherry_leaves_dataset/cherry_leaves/test\n",
        "\n",
        "## Outputs\n",
        "\n",
        "* Scatterplot of image height and width.\n",
        "* Image shape embeddings in a pickle file.\n",
        "* Standard deviation and mean of images per label.\n",
        "* A plot to show image differences between the two classes.\n",
        "* Image montage. \n"
      ]
    },
    {
      "cell_type": "markdown",
      "metadata": {
        "id": "9uWZXH9LwoQg"
      },
      "source": [
        "---"
      ]
    },
    {
      "attachments": {},
      "cell_type": "markdown",
      "metadata": {
        "id": "cqP-UeN-z3i2"
      },
      "source": [
        "# Set Working Directories"
      ]
    },
    {
      "cell_type": "code",
      "execution_count": null,
      "metadata": {
        "id": "wZfF_j-Bz3i4",
        "outputId": "66943449-1436-4c3d-85c7-b85f9f78349b"
      },
      "outputs": [],
      "source": [
        "import os\n",
        "current_dir = os.getcwd()\n",
        "current_dir"
      ]
    },
    {
      "cell_type": "code",
      "execution_count": null,
      "metadata": {
        "id": "TwHsQRWjz3i9",
        "outputId": "86849db3-cd2f-4cc5-ebb8-2d0caafa1a2c"
      },
      "outputs": [],
      "source": [
        "os.chdir(\"/workspace/cherry-leaves-mildew-detection\")\n",
        "print(\"You set a new current directory.\")"
      ]
    },
    {
      "cell_type": "code",
      "execution_count": null,
      "metadata": {
        "id": "vz3S-_kjz3jA",
        "outputId": "00b79ae4-75d0-4a96-d193-ac9ef9847ea2"
      },
      "outputs": [],
      "source": [
        "current_dir = os.getcwd()\n",
        "current_dir"
      ]
    },
    {
      "attachments": {},
      "cell_type": "markdown",
      "metadata": {},
      "source": [
        "### Set Input Directories"
      ]
    },
    {
      "cell_type": "code",
      "execution_count": null,
      "metadata": {},
      "outputs": [],
      "source": [
        "data_dir = \"inputs/cherry_leaves_dataset/cherry_leaves\"\n",
        "train_dir = data_dir + \"/train\"\n",
        "val_dir = data_dir + \"/validation\"\n",
        "test_dir = data_dir + \"/test\""
      ]
    },
    {
      "attachments": {},
      "cell_type": "markdown",
      "metadata": {},
      "source": [
        "### Set Output Directory"
      ]
    },
    {
      "cell_type": "code",
      "execution_count": null,
      "metadata": {},
      "outputs": [],
      "source": [
        "version = \"v1\"\n",
        "file_path = f\"outputs/{version}\"\n",
        "if \"outputs\" in os.listdir(current_dir) and version in os.listdir(current_dir + \"/outputs\"):\n",
        "    print(\"This directory exists, create a new version.\")\n",
        "else:\n",
        "    os.makedirs(name=file_path)"
      ]
    },
    {
      "attachments": {},
      "cell_type": "markdown",
      "metadata": {},
      "source": [
        "### Set Label Names"
      ]
    },
    {
      "cell_type": "code",
      "execution_count": null,
      "metadata": {},
      "outputs": [],
      "source": [
        "labels = os.listdir(train_dir)\n",
        "print(\"The image labels are\", labels)"
      ]
    },
    {
      "attachments": {},
      "cell_type": "markdown",
      "metadata": {},
      "source": [
        "---"
      ]
    },
    {
      "attachments": {},
      "cell_type": "markdown",
      "metadata": {
        "id": "-mavJ8DibrcQ"
      },
      "source": [
        "# Image Shape"
      ]
    },
    {
      "attachments": {},
      "cell_type": "markdown",
      "metadata": {},
      "source": [
        "### Plot Height and Width"
      ]
    },
    {
      "cell_type": "code",
      "execution_count": null,
      "metadata": {},
      "outputs": [],
      "source": [
        "import os\n",
        "import pandas as pd\n",
        "import numpy as np\n",
        "import matplotlib.pyplot as plt\n",
        "import seaborn as sns\n",
        "import joblib\n",
        "from matplotlib.image import imread\n",
        "\n",
        "def plot_height_width():\n",
        "    \"\"\"\n",
        "    Function to plot height and width in a scatterplot and\n",
        "    return the mean height and mean width.\n",
        "    \"\"\"\n",
        "\n",
        "    image_height, image_width = [], []\n",
        "    for label in labels:\n",
        "        for file in os.listdir(train_dir + \"/\" + label):\n",
        "            image = imread(train_dir + \"/\" + label + \"/\" + file)\n",
        "            height, width, color = image.shape\n",
        "            image_height.append(height)\n",
        "            image_width.append(width)\n",
        "\n",
        "    sns.set_theme(style=\"darkgrid\", palette=\"bright\")\n",
        "    fig, axes = plt.subplots()\n",
        "    sns.scatterplot(x=image_width, y=image_height, alpha=0.5)\n",
        "    axes.set_xlabel(\"Width (pixels)\")\n",
        "    axes.set_ylabel(\"Height (pixels)\")\n",
        "    axes.set_title(\"Height and Width of Cherry Leaves Images\")\n",
        "\n",
        "    # To calculate the mean height and width\n",
        "    height_mean = int(np.array(image_height).mean())\n",
        "    width_mean = int(np.array(image_width).mean())\n",
        "\n",
        "    # Save image if it is not in directory\n",
        "    if \"height_width_plot.png\" not in file_path:\n",
        "        plt.savefig(f\"{file_path}/height_width_plot.png\")\n",
        "    else:\n",
        "        plt.show()\n",
        "    print(f\"The average image height is {height_mean} and the average image width is {width_mean}.\")\n",
        "\n",
        "    return height_mean, width_mean"
      ]
    },
    {
      "cell_type": "code",
      "execution_count": null,
      "metadata": {},
      "outputs": [],
      "source": [
        "height_mean, height_width = plot_height_width()\n",
        "image_shape = (height_mean, height_width, 3)\n",
        "image_shape"
      ]
    },
    {
      "attachments": {},
      "cell_type": "markdown",
      "metadata": {},
      "source": [
        "Every image in the dataset is of the same exact height and width. "
      ]
    },
    {
      "attachments": {},
      "cell_type": "markdown",
      "metadata": {},
      "source": [
        "### Save Image Shape"
      ]
    },
    {
      "cell_type": "code",
      "execution_count": null,
      "metadata": {},
      "outputs": [],
      "source": [
        "if \"image_shape_embed.pkl\" not in file_path:\n",
        "    joblib.dump(value=image_shape, filename=f\"{file_path}/image_shape_embed.pkl\")"
      ]
    },
    {
      "cell_type": "markdown",
      "metadata": {
        "id": "ZY3l0-AxO93d"
      },
      "source": [
        "---"
      ]
    },
    {
      "attachments": {},
      "cell_type": "markdown",
      "metadata": {
        "id": "uFQo3ycuO-v6"
      },
      "source": [
        "# Data Visualisation"
      ]
    },
    {
      "attachments": {},
      "cell_type": "markdown",
      "metadata": {},
      "source": [
        "### Load Images as Array"
      ]
    },
    {
      "cell_type": "code",
      "execution_count": null,
      "metadata": {},
      "outputs": [],
      "source": [
        "from tensorflow.keras.preprocessing import image\n",
        "\n",
        "def load_images_in_array(data_dir, new_size=(50,50), n_images_per_label=20):\n",
        "    \"\"\"\n",
        "    Function to load images in array.\n",
        "    \"\"\"\n",
        "    # Set X as an interger and y as an object\n",
        "    X, y = np.array([], dtype=\"int\"), np.array([], dtype=\"object\")\n",
        "    labels = os.listdir(data_dir)\n",
        "\n",
        "    for label in labels:\n",
        "        count = 0\n",
        "        for image_file in os.listdir(data_dir + \"/\" + label):\n",
        "            # Stop when count reaches this number to save time\n",
        "            if count < n_images_per_label:\n",
        "                file = image.load_img(data_dir + \"/\" + label + \"/\" + image_file, color_mode=\"rgb\", target_size=new_size)\n",
        "                # Resize the image only if the max pixel value is above 1\n",
        "                if image.img_to_array(file).max() > 1:\n",
        "                    resized_image = image.img_to_array(file) / 255\n",
        "                else:\n",
        "                    resized_image = image.img_to_array(file)\n",
        "                X = np.append(X, resized_image).reshape(-1, new_size[0], new_size[1], resized_image.shape[2])\n",
        "                y = np.append(y, label)\n",
        "                count += 1\n",
        "\n",
        "    return X, y"
      ]
    },
    {
      "cell_type": "code",
      "execution_count": null,
      "metadata": {},
      "outputs": [],
      "source": [
        "X, y = load_images_in_array(data_dir=train_dir, new_size=image_shape, n_images_per_label=30)\n",
        "print(X.shape, y.shape)"
      ]
    },
    {
      "attachments": {},
      "cell_type": "markdown",
      "metadata": {},
      "source": [
        "### Average Image and Image Variability"
      ]
    },
    {
      "cell_type": "code",
      "execution_count": null,
      "metadata": {},
      "outputs": [],
      "source": [
        "def plot_image_mean_and_variability_as_array(X, y, figsize=(10,5)):\n",
        "    \"\"\"\n",
        "    Function to loop through the labels, subset an array for each label\n",
        "    and caclulate/plot the standard deviation and mean.\n",
        "    \"\"\"\n",
        "    sns.set_style(\"white\")\n",
        "    for label in np.unique(y):\n",
        "        # Subset an array\n",
        "        y = y.reshape(-1,1,1)\n",
        "        boolean_mask = np.any(y==label, axis=1).reshape(-1)\n",
        "        array = X[boolean_mask]\n",
        "\n",
        "        # Calculate the mean per label\n",
        "        mean_image = np.mean(array, axis=0)\n",
        "        # Calculate the variability per label\n",
        "        std_image = np.std(array, axis=0)\n",
        "\n",
        "        print(f\"Label: {label}\")\n",
        "        print(f\"Image shape: {mean_image.shape}\")\n",
        "        fig, axes = plt.subplots(nrows=1, ncols=2, figsize=figsize)\n",
        "        axes[0].set_title(f\"Average Image for {label}\")\n",
        "        axes[0].imshow(mean_image, cmap=\"gray\")\n",
        "        axes[1].set_title(f\"Image Variability for {label}\")\n",
        "        axes[1].imshow(std_image, cmap=\"gray\")\n",
        "        if f\"mean_std_{label}.png\" not in {file_path}:\n",
        "            plt.savefig(f\"{file_path}/mean_std_{label}.png\")\n",
        "        else:\n",
        "            plt.show()\n",
        "            \n",
        "        print(\"\\n\")"
      ]
    },
    {
      "cell_type": "code",
      "execution_count": null,
      "metadata": {},
      "outputs": [],
      "source": [
        "plot_image_mean_and_variability_as_array(X=X, y=y)"
      ]
    },
    {
      "attachments": {},
      "cell_type": "markdown",
      "metadata": {},
      "source": [
        "### Differences between Healthy and Powdery Mildew Images"
      ]
    },
    {
      "cell_type": "code",
      "execution_count": null,
      "metadata": {},
      "outputs": [],
      "source": [
        "def subset_image_for_label(X, y, label):\n",
        "    \"\"\"\n",
        "    Function to subset the image per label\n",
        "    \"\"\"\n",
        "    y = y.reshape(-1,1,1)\n",
        "    boolean_mask = np.any(y==label, axis=1).reshape(-1)\n",
        "    df_cherry_leaves = X[boolean_mask]\n",
        "    return df_cherry_leaves\n",
        "\n",
        "def differences_between_two_labels(X, y, label_1, label_2, figsize=(15,10)):\n",
        "    \"\"\"\n",
        "    Function to plot the average image and image differences between two labels.\n",
        "    \"\"\"\n",
        "    sns.set_style(\"white\")\n",
        "    label_list = np.unique(y)\n",
        "\n",
        "    if label_1 not in label_list:\n",
        "        print(f\"{label_1} is not in {label_list}.\")\n",
        "        return\n",
        "    elif label_2 not in label_list:\n",
        "        print(f\"{label_2} is not in {label_list}.\")\n",
        "    \n",
        "    image_1 = subset_image_for_label(X=X, y=y, label=label_1)\n",
        "    image_1_mean = np.mean(image_1, axis=0)\n",
        "\n",
        "    image_2 = subset_image_for_label(X=X, y=y, label=label_2)\n",
        "    image_2_mean = np.mean(image_2, axis=0)\n",
        "\n",
        "    differences = image_1_mean - image_2_mean\n",
        "\n",
        "    fig, axes = plt.subplots(nrows=1, ncols=3, figsize=figsize)\n",
        "    print(\"\\n\")\n",
        "    axes[0].set_title(f\"Average {label_1}\")\n",
        "    axes[0].imshow(image_1_mean, cmap=\"gray\")\n",
        "    axes[1].set_title(f\"Average {label_2}\")\n",
        "    axes[1].imshow(image_2_mean, cmap=\"gray\")\n",
        "    axes[2].set_title(f\"Differences: Average {label_1} and {label_2}\")\n",
        "    axes[2].imshow(differences, cmap=\"gray\")\n",
        "    if f\"differences {label_1} and {label_2}.png\" not in {file_path}:\n",
        "        plt.savefig(f\"{file_path}/differences {label_1} and {label_2}.png\")\n",
        "    else:\n",
        "        plt.show()\n"
      ]
    },
    {
      "cell_type": "code",
      "execution_count": null,
      "metadata": {},
      "outputs": [],
      "source": [
        "differences_between_two_labels(X=X, y=y, label_1=\"healthy\", label_2=\"powdery_mildew\")"
      ]
    },
    {
      "attachments": {},
      "cell_type": "markdown",
      "metadata": {},
      "source": [
        "### Image Montage"
      ]
    },
    {
      "cell_type": "code",
      "execution_count": null,
      "metadata": {},
      "outputs": [],
      "source": [
        "import random\n",
        "import itertools\n",
        "\n",
        "def image_montage_data(dir_path, label, nrows, ncols, figsize=(15, 10)):\n",
        "    \"\"\"\n",
        "    Function to subset label of interest, check if label is in the folder,\n",
        "    check if grid space is greater than the subset size and display the images. \n",
        "    \"\"\"\n",
        "    sns.set_style(\"white\")\n",
        "    labels = os.listdir(dir_path)\n",
        "    if label in labels:\n",
        "        image_list = os.listdir(dir_path + \"/\" + label)\n",
        "        if nrows * ncols < len(image_list):\n",
        "            image_index = random.sample(image_list, nrows * ncols)\n",
        "        else: \n",
        "            print(f\"The montage space {nrows * ncols} is greater than the subset.\")\n",
        "            print(f\"Reduce the nrows and ncols.\")\n",
        "            return\n",
        "        \n",
        "        list_of_rows = range(0, nrows)\n",
        "        list_of_cols = range(0, ncols)\n",
        "        ax_indices = list(itertools.product(list_of_rows, list_of_cols))\n",
        "\n",
        "        fig, axes = plt.subplots(nrows=nrows, ncols=ncols, figsize=figsize)\n",
        "        for i in range(0, nrows * ncols):\n",
        "            file = imread(dir_path + \"/\" + label + \"/\" + image_index[i], 0)\n",
        "            img_shape = file.shape\n",
        "            axes[ax_indices[i][0], ax_indices[i][1]].set_title(f\"Height: {img_shape[0]}px Width: {img_shape[1]}px\")\n",
        "            axes[ax_indices[i][0], ax_indices[i][1]].imshow(file)\n",
        "            # Set the tick locations of x axis\n",
        "            axes[ax_indices[i][0], ax_indices[i][1]].set_xticks([])\n",
        "            # Set the tick locations of y axis\n",
        "            axes[ax_indices[i][0], ax_indices[i][1]].set_yticks([])\n",
        "        plt.tight_layout()\n",
        "        plt.show()\n",
        "    else:\n",
        "        print(f\"Choose from the labels: {labels}\")"
      ]
    },
    {
      "cell_type": "code",
      "execution_count": null,
      "metadata": {},
      "outputs": [],
      "source": [
        "for label in labels:\n",
        "    print(label)\n",
        "    image_montage_data(dir_path=train_dir, label=label, nrows=3, ncols=3, figsize=(15,10))\n",
        "    print(\"\\n\")"
      ]
    },
    {
      "cell_type": "markdown",
      "metadata": {},
      "source": [
        "---"
      ]
    },
    {
      "cell_type": "markdown",
      "metadata": {},
      "source": [
        "# Conclusions"
      ]
    },
    {
      "attachments": {},
      "cell_type": "markdown",
      "metadata": {},
      "source": [
        "Image data from the test set was resized with the average image and image variability determined. The differences between images from two labels were also plotted. An image montage was created."
      ]
    },
    {
      "cell_type": "markdown",
      "metadata": {},
      "source": [
        "---"
      ]
    },
    {
      "cell_type": "markdown",
      "metadata": {
        "id": "ltNetd085qHf"
      },
      "source": [
        "# Next Steps"
      ]
    },
    {
      "attachments": {},
      "cell_type": "markdown",
      "metadata": {},
      "source": [
        "The training dataset will be used to create a pipeline and fit a model. The model will be tuned using the validation set and finally the test will be used to test the model with unseen data."
      ]
    },
    {
      "attachments": {},
      "cell_type": "markdown",
      "metadata": {},
      "source": [
        "---"
      ]
    }
  ],
  "metadata": {
    "accelerator": "GPU",
    "colab": {
      "name": "Data Practitioner Jupyter Notebook.ipynb",
      "provenance": [],
      "toc_visible": true
    },
    "interpreter": {
      "hash": "8b8334dab9339717f727a1deaf837b322d7a41c20d15cc86be99a8e69ceec8ce"
    },
    "kernelspec": {
      "display_name": "Python 3.8.12 64-bit ('3.8.12': pyenv)",
      "name": "python3"
    },
    "language_info": {
      "codemirror_mode": {
        "name": "ipython",
        "version": 3
      },
      "file_extension": ".py",
      "mimetype": "text/x-python",
      "name": "python",
      "nbconvert_exporter": "python",
      "pygments_lexer": "ipython3",
      "version": "3.8.12"
    },
    "orig_nbformat": 2
  },
  "nbformat": 4,
  "nbformat_minor": 2
}
